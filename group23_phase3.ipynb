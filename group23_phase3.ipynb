{
  "cells": [
    {
      "cell_type": "markdown",
      "metadata": {
        "id": "SYT-2x47-sjY"
      },
      "source": [
        "# CS331 - Spring 2022 - Phase 3 [5%]\n",
        "\n",
        "*__Submission Guidelines:__*\n",
        "- Naming convention for submission of this notebook is `groupXX_Phase3.ipynb` where XX needs to be replaced by your group number. For example: group 1 would rename their notebook to `group01_Phase3.ipynb`\n",
        "- Only the group lead is supposed to make the submission\n",
        "- You need to submit this file as an .ipynb along with a .zip file of your own dataset and a document via LMS \n",
        "- The naming convention for the dataset is `groupXX_Dataset.zip`. Replace XX with the group number. The dataset <b>must</b> be a .zip file\n",
        "- For the document, the naming convention is `groupXX_Document.pdf` where XX needs to be replaced by your group number. In the document, you have to tell why you chose the preprocessing methods that you chose and also justify the choice of network, the hyperparamters, and the results. Also mention any improvements you could have incorporated in your NN implementations, as well as the limitations which constrained the overall performance. Essentially, document the process of phase 3. The document should not be longer than 2 pages and no lesser than 1 page\n",
        "- All the cells <b>must</b> be run once before submission. If your submission's cells are not showing the results (plots etc.), marks wil be deducted\n",
        "- Only the code written within this notebook will be considered while grading. No other files will be entertained\n",
        "- You are advised to follow good programming practies including approriate variable naming and making use of logical comments \n",
        "\n",
        "The university honor code should be maintained. Any violation, if found, will result in disciplinary action. \n"
      ]
    },
    {
      "cell_type": "markdown",
      "metadata": {
        "id": "zpC12Mye-9uZ"
      },
      "source": [
        "#### <b>Introduction</b> \n",
        "This is the final phase of this offering's project. By now you guys have managed to build a multi-layer NN from scratch which is capable of scoring decent accuracy on the Fashion MNIST dataset. In this phase, we are going to shift our focus to the process of data engineering. You will be creating your own dataset (details will be disclosed as you follow along), you will have to carry out some preprocessing on this dataset of yours and will use this to evaluate your network from phase 2. This will also involove the tedious process of tweaking the hyperparamters so that your network scores higher accuracy scores on your own, novel, dataset\n",
        "\n",
        "###### <b>IMPORTANT\n",
        "\n",
        "###### Modification of the provided code without prior discussion with the TAs will result in a grade deduction</b>\n",
        "\n",
        "---\n",
        "\n",
        "###### <b>Side note</b>\n",
        "The `plot_model` method will only work if you have the `pydot` python package installed along with [Graphviz](https://graphviz.gitlab.io/download/). If you do not wish to use this then simply comment out the import for `pydot`\n",
        "\n",
        "###### <b>Need Help?</b>\n",
        "If you need help, please refer to the course staff ASAP and do not wait till the last moment as they might not be available on very short notice close to deadlines"
      ]
    },
    {
      "cell_type": "markdown",
      "metadata": {
        "id": "idDbgABDBuvZ"
      },
      "source": [
        "#### <b>PART 1</b>\n",
        "\n",
        "This part is essentially the copy pasting of the codes from cells of your phase 2's notebook to the cells of this notebook. The intent is to replicate your phase 2's network and train (using the same OR different hyperparamters) it so that it can be used to evlaute the novel dataset (that will be part 2 of this phase)"
      ]
    },
    {
      "cell_type": "code",
      "execution_count": 2,
      "metadata": {
        "id": "s0OE_p0V-q-H"
      },
      "outputs": [],
      "source": [
        "# making all the necessary imports here\n",
        "\n",
        "import numpy as np\n",
        "import pandas as pd\n",
        "import time\n",
        "%matplotlib inline\n",
        "import matplotlib.pyplot as plt\n",
        "plt.style.use('seaborn')\n",
        "from IPython.display import Image\n",
        "import pydot\n",
        "from tqdm import tqdm_notebook\n",
        "import seaborn as sns\n",
        "from keras.datasets import fashion_mnist\n",
        "from sklearn.model_selection import train_test_split\n",
        "from keras.utils import np_utils\n",
        "from sklearn.datasets import make_moons\n",
        "from sklearn.linear_model import LinearRegression, LogisticRegression\n",
        "from sklearn.metrics import confusion_matrix,classification_report\n",
        "from google.colab import drive\n",
        "import glob\n",
        "import cv2"
      ]
    },
    {
      "cell_type": "code",
      "execution_count": null,
      "metadata": {
        "id": "sz6xWsK3B-k4"
      },
      "outputs": [],
      "source": [
        "# This function will be used to plot the confusion matrix at the end of this notebook\n",
        "\n",
        "def plot_confusion_matrix(conf_mat):\n",
        "    classes = ['T-shirt/top','Trouser/pants','Pullover shirt','Dress','Coat','Sandal','Shirt','Sneaker','Bag','Ankle boot']\n",
        "    df_cm = pd.DataFrame(conf_mat,classes,classes)\n",
        "    plt.figure(figsize=(15,9))\n",
        "    sns.set(font_scale=1.4)\n",
        "    sns.heatmap(df_cm, annot=True,annot_kws={\"size\": 16})\n",
        "    plt.show()\n",
        "\n",
        "class_labels = ['T-shirt/top','Trouser/pants','Pullover shirt','Dress','Coat','Sandal','Shirt','Sneaker','Bag','Ankle boot']"
      ]
    },
    {
      "cell_type": "code",
      "execution_count": null,
      "metadata": {
        "id": "J8vdVLQ0B_bd"
      },
      "outputs": [],
      "source": [
        "# Enter group lead's roll number here. This will be used for plotting purposes\n",
        "\n",
        "rollnumber = 24100043"
      ]
    },
    {
      "cell_type": "markdown",
      "metadata": {
        "id": "MK2xKOxzCqgE"
      },
      "source": [
        "#### __Dataset from Keras Library__\n",
        "\n",
        "The required library has been imported for you as fashion_mnist. Use it to load the train and test data accordingly."
      ]
    },
    {
      "cell_type": "code",
      "execution_count": null,
      "metadata": {
        "id": "2ehOJSGECqOD",
        "colab": {
          "base_uri": "https://localhost:8080/"
        },
        "outputId": "bb0714d9-c51c-402a-d7c1-73d55280619d"
      },
      "outputs": [
        {
          "output_type": "stream",
          "name": "stdout",
          "text": [
            "Downloading data from https://storage.googleapis.com/tensorflow/tf-keras-datasets/train-labels-idx1-ubyte.gz\n",
            "32768/29515 [=================================] - 0s 0us/step\n",
            "40960/29515 [=========================================] - 0s 0us/step\n",
            "Downloading data from https://storage.googleapis.com/tensorflow/tf-keras-datasets/train-images-idx3-ubyte.gz\n",
            "26427392/26421880 [==============================] - 1s 0us/step\n",
            "26435584/26421880 [==============================] - 1s 0us/step\n",
            "Downloading data from https://storage.googleapis.com/tensorflow/tf-keras-datasets/t10k-labels-idx1-ubyte.gz\n",
            "16384/5148 [===============================================================================================] - 0s 0us/step\n",
            "Downloading data from https://storage.googleapis.com/tensorflow/tf-keras-datasets/t10k-images-idx3-ubyte.gz\n",
            "4423680/4422102 [==============================] - 0s 0us/step\n",
            "4431872/4422102 [==============================] - 0s 0us/step\n",
            "Size of training samples matrix: (60000, 28, 28)\n",
            "Size of testing samples matrix: (10000, 28, 28)\n"
          ]
        }
      ],
      "source": [
        "# Loading the dataset using keras APIs\n",
        "''' \n",
        "x_train = variable to store training images\n",
        "y_train = variable to store training images' labels\n",
        "x_test = variable to store test images\n",
        "y_test = variable to store test images' labels\n",
        "'''\n",
        "\n",
        "classes = 10  # do not change this\n",
        "(x_train, y_train),(x_test, y_test) = fashion_mnist.load_data()\n",
        "\n",
        "# Sizes of test and training samples\n",
        "print(\"Size of training samples matrix:\", x_train.shape)\n",
        "print(\"Size of testing samples matrix:\", x_test.shape)\n",
        "\n",
        "###### Code Here ######\n",
        "'''Hint: You will have to normalize the given matrices'''\n",
        "\n",
        "x_train = x_train/255.0\n",
        "x_test = x_test/255.0\n",
        "\n",
        "\n",
        "\n",
        "\n",
        "\n",
        "\n",
        "#x_test = x_test.reshape(x_test.shape[0], image_vector_size) # not sure if test flatten \n",
        "\n",
        "\n",
        "#one hot encode y_train and y_test\n",
        "y_train = np_utils.to_categorical(y_train, classes) #shape(60000,10) 60000 observation and 10 possible output label\n",
        "y_test = np_utils.to_categorical(y_test, classes)"
      ]
    },
    {
      "cell_type": "markdown",
      "metadata": {
        "id": "BLeZFElYFINX"
      },
      "source": [
        "#### __NN Implementation__\n",
        "Your implementation of NN needs to use the `sigmoid` activation function for all hidden layers and the `softmax` activation function for the output layer. The NN model you will be creating here will consits of only three layers: 1 input layer, n hidden layers (where you have the liberty to define n) and 1 output layer."
      ]
    },
    {
      "cell_type": "code",
      "execution_count": null,
      "metadata": {
        "id": "rVq8Oq-MD2wZ"
      },
      "outputs": [],
      "source": [
        "class NeuralNetwork():\n",
        "    @staticmethod\n",
        "    def cross_entropy_loss(y_pred, y_true):\n",
        "        # implement cross_entropy_loss function\n",
        "        #TO DO\n",
        "\n",
        "        m = y_pred.shape[0]\n",
        "        \n",
        "        inner_term = y_true * np.log(y_pred)\n",
        "        loss = -(1/m) * np.sum(inner_term)\n",
        "        \n",
        "  \n",
        "        return loss\n",
        "\n",
        "    @staticmethod\n",
        "    def accuracy(y_pred, y_true):\n",
        "        # implement accuracy function\n",
        "        #TO DO\n",
        "\n",
        "        return np.mean(y_pred == y_true)\n",
        "\n",
        "    @staticmethod\n",
        "    def softmax(x):\n",
        "        # implement softmax function\n",
        "        #TO DO\n",
        "\n",
        "        return np.exp(x) / np.sum(np.exp(x), axis=1, keepdims=True)\n",
        "\n",
        "    @staticmethod\n",
        "    def sigmoid(x):\n",
        "        #TO DO\n",
        "        \n",
        "        z = 1 / (1 + np.exp(-x))\n",
        "        \n",
        "        return z\n",
        "\n",
        "    def __init__(self, nodes_per_layer):\n",
        "        '''Creates a Feed-Forward Neural Network.\n",
        "        The parameters represent the number of nodes in each layer. \n",
        "        Look at the inputs to the function, and use 'try and accept'\n",
        "        to catch errors if number of layers are < 2.\n",
        "        '''\n",
        "        \n",
        "        self.num_layers = len(nodes_per_layer) # including input and output layers\n",
        "        self.nodes_per_layer = nodes_per_layer\n",
        "        self.input_shape = nodes_per_layer[0]\n",
        "        self.output_shape = nodes_per_layer[-1]\n",
        "        \n",
        "        self.weights_ = []\n",
        "        self.biases_ = []\n",
        "        self.__init_weights(nodes_per_layer)\n",
        "        \n",
        "\n",
        "    def __init_weights(self, nodes_per_layer):\n",
        "        '''Initializes all weights based on standard normal distribution and all biases to 0.'''\n",
        "        '''Initialize weights for each layer except the input layer, since it does not have weights.'''\n",
        "        \n",
        "        ###### Code Here ######\n",
        "        #add weight and bias b/w input and first hidden layer\n",
        "        w_1=np.random.normal(size=(self.input_shape, self.nodes_per_layer[1]))\n",
        "        b_1=np.zeros(shape=(self.nodes_per_layer[1], ))\n",
        "        self.weights_.append(w_1)\n",
        "        self.biases_.append(b_1)\n",
        "        \n",
        "        #add weights for layer 2( second hidden layer) till last hidden layer(self.num_layers-1)\n",
        "        for n in range(2,self.num_layers-1):\n",
        "          \n",
        "          w_n=np.random.normal(size=(self.nodes_per_layer[n-1], self.nodes_per_layer[n]))  #w_i=(n_i-1,n_i)\n",
        "          b_n=np.zeros(shape=(self.nodes_per_layer[n], ))\n",
        "          self.weights_.append(w_n)\n",
        "          self.biases_.append(b_n)\n",
        "          \n",
        "\n",
        "        #add weights b/w last hidden layer and output layer\n",
        "        w_o=np.random.normal(size=(self.nodes_per_layer[self.num_layers-2], self.output_shape))\n",
        "        b_o=np.zeros(shape=(self.output_shape, ))\n",
        "        self.weights_.append(w_o)\n",
        "        self.biases_.append(b_o)\n",
        "        \n",
        "\n",
        "       \n",
        "    \n",
        "    def forward_pass(self, input_data):\n",
        "        '''Executes the feed forward algorithm.\n",
        "        \"input_data\" is the input to the network in row-major form\n",
        "        Returns \"activations\", which is a list of all layer outputs (excluding input layer of course)'''\n",
        "        activations =[]\n",
        "\n",
        "        #activation of first hidden layer which uses input layer\n",
        "        z_1 = np.matmul(input_data, self.weights_[0]) + self.biases_[0]\n",
        "        a_1 = self.sigmoid(z_1)\n",
        "        activations.append(a_1)\n",
        "       \n",
        "        #activation of hidden layer two till last hidden layer\n",
        "        for n in range(2,self.num_layers-1):\n",
        "          z_n=np.matmul(activations[-1], self.weights_[n-1]) + self.biases_[n-1]\n",
        "          a_n=self.sigmoid(z_n)\n",
        "          activations.append(a_n)\n",
        "          \n",
        "\n",
        "        #activation of output layer\n",
        "        z_o=np.matmul(activations[-1], self.weights_[-1]) + self.biases_[-1]\n",
        "        a_o=self.softmax(z_o)\n",
        "        activations.append(a_o)\n",
        "        \n",
        "        ###### Code Here ######\n",
        "      \n",
        "     \n",
        "        return activations\n",
        "\n",
        "    def backward_pass(self, targets, layer_activations):\n",
        "        '''Executes the backpropogation algorithm.\n",
        "        \"targets\" is the ground truth/labels\n",
        "        \"layer_activations\" are the return value of the forward pass step\n",
        "        Returns \"deltas\", which is a list containing weight update values for all layers (excluding the input layer of course)'''\n",
        "        \n",
        "        ###### Code Here ######\n",
        "        deltas = []\n",
        "        delta_output=layer_activations[-1]-targets\n",
        "        deltas.append(delta_output)\n",
        "        \n",
        "\n",
        "        # deltas of all hidden layers\n",
        "        num_hidden_layer=self.num_layers -2 #subtract output and input layer\n",
        "        for n in range(num_hidden_layer,0,-1):\n",
        "          term_1 = np.matmul(deltas[-1], self.weights_[n].T)\n",
        "          term_2 = layer_activations[n-1] * (1 - layer_activations[n-1])\n",
        "          delta= term_1 * term_2\n",
        "          deltas.append(delta)\n",
        "          \n",
        "        \n",
        "        deltas.reverse()# if its time taking try to work around it\n",
        "        #deltas are in reverse order starting for output layet till first hidden layer\n",
        "        \n",
        "        return deltas\n",
        "    \n",
        "    def weight_update(self, deltas, layer_inputs, lr):\n",
        "        '''Executes the gradient descent algorithm.\n",
        "        \"deltas\" is return value of the backward pass step\n",
        "        \"layer_inputs\" is a list containing the inputs for all layers (including the input layer)\n",
        "        \"lr\" is the learning rate'''\n",
        "        weight_updates=[]\n",
        "        bias_updates=[]\n",
        "        for n in range(self.num_layers-1): # run for all layer excluding input layer\n",
        "        ###### Code Here ######\n",
        "          weight_update_n= np.matmul(deltas[n].T, layer_inputs[n])\n",
        "          weight_update_n=weight_update_n.T #(n_i-1,n_i)\n",
        "          \n",
        "\n",
        "          bias_update_n=deltas[n]\n",
        "          \n",
        "          weight_updates.append(weight_update_n)\n",
        "          bias_updates.append(bias_update_n)\n",
        "\n",
        "        for n in range (self.num_layers-1):\n",
        "          self.weights_[n]=self.weights_[n]-(lr*weight_updates[n])\n",
        "          self.biases_[n]=self.biases_[n]-(lr*bias_updates[n])\n",
        "          \n",
        "       \n",
        "\n",
        "\n",
        "  \n",
        "    \n",
        "    ###### Do Not Change Anything Below this line in This Cell ######\n",
        "    \n",
        "    def fit(self, Xs, Ys, epochs, lr=1e-3):\n",
        "            history = []\n",
        "            for epoch in tqdm_notebook(range(epochs)):\n",
        "                num_samples = Xs.shape[0]\n",
        "                xp=0\n",
        "                for i in range(num_samples):\n",
        "\n",
        "                    sample_input = Xs[i,:].reshape((1,self.input_shape))\n",
        "                    sample_target = Ys[i,:].reshape((1,self.output_shape))\n",
        "                    \n",
        "                    activations = self.forward_pass(sample_input)   # Call forward_pass function \n",
        "                    deltas = self.backward_pass(sample_target, activations)    # Call backward_pass function \n",
        "                    layer_inputs = [sample_input] + activations[:-1]\n",
        "                    \n",
        "                    # Call weight_update function \n",
        "                    self.weight_update(deltas, layer_inputs, lr)\n",
        "                    \n",
        "                preds = self.predict(Xs)   # Call predict function \n",
        "\n",
        "                current_loss = self.cross_entropy_loss(preds, Ys)\n",
        "                \n",
        "                if  epoch==epochs-1:\n",
        "                  confusion_mat=confusion_matrix(Ys.argmax(axis=1), preds.argmax(axis=1),labels=np.arange(10))  \n",
        "                  plot_confusion_matrix(confusion_mat)\n",
        "                  report = classification_report(Ys, np_utils.to_categorical(preds.argmax(axis=1),num_classes=classes), target_names=class_labels)\n",
        "                  print(report)\n",
        "                history.append(current_loss)\n",
        "            return history\n",
        "    \n",
        "    def predict(self, Xs):\n",
        "        '''Returns the model predictions (output of the last layer) for the given \"Xs\".'''\n",
        "        predictions = []\n",
        "        num_samples = Xs.shape[0]\n",
        "        for i in range(num_samples):\n",
        "            sample = Xs[i,:].reshape((1,self.input_shape))\n",
        "            sample_prediction = self.forward_pass(sample)[-1]\n",
        "            predictions.append(sample_prediction.reshape((self.output_shape,)))\n",
        "        return np.array(predictions)\n",
        "    \n",
        "    def evaluate(self, Xs, Ys):\n",
        "        '''Returns appropriate metrics for the task, calculated on the dataset passed to this method.'''\n",
        "        pred = self.predict(Xs)\n",
        "        return self.cross_entropy_loss(pred, Ys), self.accuracy(pred.argmax(axis=1), Ys.argmax(axis=1))\n",
        "    \n",
        "    def plot_model(self, filename):\n",
        "        '''Provide the \"filename\" as a string including file extension. Creates an image showing the model as a graph.'''\n",
        "        graph = pydot.Dot(graph_type='digraph')\n",
        "        graph.set_rankdir('LR')\n",
        "        graph.set_node_defaults(shape='circle', fontsize=0)\n",
        "        nodes_per_layer = [self.input_shape, self.hidden_shape, self.output_shape]\n",
        "        for i in range(self.num_layers-1):\n",
        "            for n1 in range(nodes_per_layer[i]):\n",
        "                for n2 in range(nodes_per_layer[i+1]):\n",
        "                    edge = pydot.Edge(f'l{i}n{n1}', f'l{i+1}n{n2}')\n",
        "                    graph.add_edge(edge)\n",
        "        graph.write_png(filename)"
      ]
    },
    {
      "cell_type": "code",
      "execution_count": null,
      "metadata": {
        "id": "Ew6nN0HyfbSd"
      },
      "outputs": [],
      "source": [
        "# These are what we call the hyperparameters (a.k.a Black Magic). You need to research on them and tweak them to see what generates the best result for you \n",
        "\n",
        "EPOCH = 100        # must be an int\n",
        "LEARNING_RATE = 0.003\n",
        "nodes_per_layer = [784,64,32,16,10]  #int values for nodes of each layer. # of hidden layers >= 2. "
      ]
    },
    {
      "cell_type": "code",
      "execution_count": null,
      "metadata": {
        "id": "z6TTr8h1fo4l",
        "colab": {
          "base_uri": "https://localhost:8080/",
          "height": 1000,
          "referenced_widgets": [
            "06b2315e5db84b89b2438a91cc8390a1",
            "927bc1937e694cfb8bf21fa17d3b25ca",
            "071af495f9104a8db1013e5e9235a70c",
            "6be51b734e414c27b352150c43108de2",
            "2e556e1e89274bd69411511793271d44",
            "93c0e0806b6e4d20afc77cb0dcf5ef95",
            "bf65c8b01fd6405fb8b7de30de24a5a1",
            "51bab2d93a2044bcbf0c0e967fb81b06",
            "35ce95fd4acc410bb7b02b1917ff399b",
            "741227a3fe764618a59292b63f676b76",
            "a370bde1e0814b0f803ea56aa8094298"
          ]
        },
        "outputId": "f491131f-26cc-48fa-a361-7eabc4f5eb3e"
      },
      "outputs": [
        {
          "output_type": "stream",
          "name": "stderr",
          "text": [
            "/usr/local/lib/python3.7/dist-packages/ipykernel_launcher.py:168: TqdmDeprecationWarning: This function will be removed in tqdm==5.0.0\n",
            "Please use `tqdm.notebook.tqdm` instead of `tqdm.tqdm_notebook`\n"
          ]
        },
        {
          "output_type": "display_data",
          "data": {
            "text/plain": [
              "  0%|          | 0/100 [00:00<?, ?it/s]"
            ],
            "application/vnd.jupyter.widget-view+json": {
              "version_major": 2,
              "version_minor": 0,
              "model_id": "06b2315e5db84b89b2438a91cc8390a1"
            }
          },
          "metadata": {}
        },
        {
          "output_type": "display_data",
          "data": {
            "text/plain": [
              "<Figure size 1080x648 with 2 Axes>"
            ],
            "image/png": "[encoded data removed]"
          },
          "metadata": {}
        },
        {
          "output_type": "stream",
          "name": "stdout",
          "text": [
            "                precision    recall  f1-score   support\n",
            "\n",
            "   T-shirt/top       0.81      0.91      0.85      6000\n",
            " Trouser/pants       0.99      0.98      0.98      6000\n",
            "Pullover shirt       0.83      0.83      0.83      6000\n",
            "         Dress       0.91      0.92      0.91      6000\n",
            "          Coat       0.79      0.87      0.83      6000\n",
            "        Sandal       0.99      0.99      0.99      6000\n",
            "         Shirt       0.81      0.62      0.70      6000\n",
            "       Sneaker       0.97      0.96      0.97      6000\n",
            "           Bag       0.98      0.98      0.98      6000\n",
            "    Ankle boot       0.97      0.98      0.98      6000\n",
            "\n",
            "     micro avg       0.90      0.90      0.90     60000\n",
            "     macro avg       0.90      0.90      0.90     60000\n",
            "  weighted avg       0.90      0.90      0.90     60000\n",
            "   samples avg       0.90      0.90      0.90     60000\n",
            "\n",
            "Runtime of the algorithm is  5353.291  seconds\n",
            "(0.4456892306904114, 0.8546)\n"
          ]
        },
        {
          "output_type": "display_data",
          "data": {
            "text/plain": [
              "<Figure size 432x288 with 1 Axes>"
            ],
            "image/png": "[encoded data removed]"
          },
          "metadata": {}
        }
      ],
      "source": [
        "start = time.time()\n",
        "\n",
        "# Instantiate the neural network with the number of nodes you choose per layer, right now it is done for three layers only.\n",
        "nn = NeuralNetwork(nodes_per_layer=nodes_per_layer)\n",
        "history = nn.fit(x_train, y_train, epochs=EPOCH, lr=LEARNING_RATE)\n",
        "plt.plot(history);\n",
        "plt.gca().set(xlabel='Epoch', ylabel='Cross-entropy', title='Training Plot {}'.format(rollnumber));\n",
        "end = time.time()\n",
        "\n",
        "print(\"Runtime of the algorithm is \", round((end - start),3),\" seconds\")\n",
        "\n",
        "# print accuracy on test set here\n",
        "print(nn.evaluate(x_test, y_test))"
      ]
    },
    {
      "cell_type": "markdown",
      "metadata": {
        "id": "uXdl3d98idec"
      },
      "source": [
        "#### <b>PART 2</b>\n",
        "\n",
        "Now that your NN model has been replicated and trained, we move on to the actual part of this phase i.e. making your own dataset. The instruction for creating your own dataset are as follows:\n",
        "\n",
        "- Each group has to create a dataset of 50 images (preferred way to go about this is that each member takes 10 pictures for the dataset)\n",
        "- Make sure that all the classes/categories that are there in the Fashion MNIST dataset are covered in these 50 pictures. \n",
        "- Make sure that that there is no class imbalance in your dataset. Class imbalance is when one or more classes have more images/data than others\n",
        "- Once done with taking the pictures, add them into folders where the name of the folder will be the label of that image (for reference, you can have a look at how phase 1's dataset was organized as you essentially have to replicate that directory tree with the only difference is that there will only be `test` folder as this dataset is only being used for evaluation purposes)\n",
        "- Zip the dataset and upload it on your Google Drive. You will have to mount your drive and import your dataset in the same way as it was done in phase 1\n",
        "\n",
        "Once done, you will be reading the your dataset in the notebook and storing it in variables (please make sure that you are not overwriting any variable from Part 1). This will be followed by preprocessing that you will have to do on the images an finally, you will be able to evalute your model \n",
        "\n",
        "<b>Note: It is important that you know the classes/categories, shape and other information regarding the Fashion MNIST dataset on which your model is trained because for your own dataset, you will have to generate the data/images such that they are inline with those same properties and classes otherwise your network will make a lot of misclassifications. You can read up on the Fashion MNIST dataset [here](https://www.kaggle.com/zalando-research/fashionmnist): to familiarize yourself with the dataset</b>"
      ]
    },
    {
      "cell_type": "code",
      "execution_count": 3,
      "metadata": {
        "id": "YIRg28XDmf4K",
        "colab": {
          "base_uri": "https://localhost:8080/"
        },
        "outputId": "85ca0de3-5b4b-47c2-f7a1-8470dba1dd17"
      },
      "outputs": [
        {
          "output_type": "stream",
          "name": "stdout",
          "text": [
            "Mounted at /content/drive\n"
          ]
        }
      ],
      "source": [
        "# Mounting Google Drive here\n",
        "drive.mount('/content/drive')\n",
        "\n",
        "# Edit this address so that it points to the dataset's zipped file on your Google Drive\n",
        "# !unzip -o -q \"/drive/MyDrive/myDataSet.zip\" -d \"/content/data/\""
      ]
    },
    {
      "cell_type": "code",
      "source": [
        "import os\n",
        "for dirpath, dirnames, filenames in os.walk(\"/content/drive/MyDrive/group23_Dataset\"):\n",
        "  print(f\"There are {len(dirnames)} directories and {len(filenames)} files in {dirpath}\")"
      ],
      "metadata": {
        "colab": {
          "base_uri": "https://localhost:8080/"
        },
        "id": "Wjv7Y0wSSjcy",
        "outputId": "90ed4e6f-d946-4209-d76e-c9f8e33de1e3"
      },
      "execution_count": 4,
      "outputs": [
        {
          "output_type": "stream",
          "name": "stdout",
          "text": [
            "There are 10 directories and 0 files in /content/drive/MyDrive/group23_Dataset\n",
            "There are 0 directories and 5 files in /content/drive/MyDrive/group23_Dataset/bag\n",
            "There are 0 directories and 5 files in /content/drive/MyDrive/group23_Dataset/sneaker\n",
            "There are 0 directories and 5 files in /content/drive/MyDrive/group23_Dataset/pullovershirt\n",
            "There are 0 directories and 5 files in /content/drive/MyDrive/group23_Dataset/top\n",
            "There are 0 directories and 5 files in /content/drive/MyDrive/group23_Dataset/pants\n",
            "There are 0 directories and 5 files in /content/drive/MyDrive/group23_Dataset/dress\n",
            "There are 0 directories and 5 files in /content/drive/MyDrive/group23_Dataset/coat\n",
            "There are 0 directories and 5 files in /content/drive/MyDrive/group23_Dataset/sandal\n",
            "There are 0 directories and 5 files in /content/drive/MyDrive/group23_Dataset/shirt\n",
            "There are 0 directories and 5 files in /content/drive/MyDrive/group23_Dataset/anklefoot\n"
          ]
        }
      ]
    },
    {
      "cell_type": "code",
      "source": [
        "import glob\n",
        "our_data_paths = glob.glob(\"/content/drive/MyDrive/group23_Dataset/**/*.*\", recursive=True)\n",
        "print(f\"There are {len(our_data_paths)} images in our dataset.\")"
      ],
      "metadata": {
        "colab": {
          "base_uri": "https://localhost:8080/"
        },
        "id": "iPxeiLz7SyiS",
        "outputId": "e403b68e-8ab9-4f21-dad7-b183ec84cab6"
      },
      "execution_count": 5,
      "outputs": [
        {
          "output_type": "stream",
          "name": "stdout",
          "text": [
            "There are 50 images in our dataset.\n"
          ]
        }
      ]
    },
    {
      "cell_type": "code",
      "source": [
        "import pathlib"
      ],
      "metadata": {
        "id": "htMkW-sJU4G7"
      },
      "execution_count": 6,
      "outputs": []
    },
    {
      "cell_type": "code",
      "source": [
        "pathlib.Path('/content/drive/MyDrive/processed_dataset').mkdir(exist_ok = True)"
      ],
      "metadata": {
        "id": "uGsICSAxVyll"
      },
      "execution_count": 7,
      "outputs": []
    },
    {
      "cell_type": "code",
      "source": [
        "def get_data(filepaths):\n",
        "    res = []\n",
        "    for i, path in enumerate(our_data_paths):\n",
        "        if (i+1)%10 == 0:\n",
        "            print(f\"Done loading {i+1} images\")\n",
        "\n",
        "        image = cv2.imread(path, cv2.IMREAD_UNCHANGED)\n",
        "        image_gray = cv2.cvtColor(image, cv2.COLOR_BGR2GRAY)\n",
        "        image_inverted = cv2.bitwise_not(image_gray)\n",
        "        image_resized = cv2.resize(image_inverted, (28,28))\n",
        "        image_normalized = image_resized/255\n",
        "        # image_flattened = image_normalized.flatten()\n",
        "\n",
        "\n",
        "        parent_path = path.split('/')\n",
        "        parent_path[4] = 'processed_dataset'\n",
        "        parent_path = '/'.join(parent_path[:-1])\n",
        "\n",
        "        pathlib.Path(parent_path).mkdir(exist_ok = True)\n",
        "\n",
        "        filename = path.split('/')[-1][0] + '.png'\n",
        "        filename = os.path.join(parent_path, filename)\n",
        "\n",
        "        cv2.imwrite(filename, image_resized)        \n",
        "\n",
        "        res.append(image_normalized)\n",
        "    \n",
        "    return res\n",
        "\n",
        "our_x = get_data(our_data_paths)"
      ],
      "metadata": {
        "colab": {
          "base_uri": "https://localhost:8080/"
        },
        "id": "Q4papeXvS1sK",
        "outputId": "3f7e5efb-cbe9-4077-892a-b8bd1287c6cd"
      },
      "execution_count": 8,
      "outputs": [
        {
          "output_type": "stream",
          "name": "stdout",
          "text": [
            "Done loading 10 images\n",
            "Done loading 20 images\n",
            "Done loading 30 images\n",
            "Done loading 40 images\n",
            "Done loading 50 images\n"
          ]
        }
      ]
    },
    {
      "cell_type": "code",
      "source": [
        "# declaring true classes\n",
        "true_classes = [\"top\", \"shirt\", \"dress\", \"sneaker\", \"pants\", \"pullovershirt\", \"anklefoot\", \"sandal\", \"coat\", \"bag\"]\n",
        "\n",
        "def get_labels(filepaths):\n",
        "  res = []\n",
        "\n",
        "  for i, path in enumerate(filepaths):\n",
        "    text_label = path.split('/')[-2]\n",
        "    oh_vector = np.zeros(10)\n",
        "\n",
        "    label_ind = true_classes.index(text_label)\n",
        "    oh_vector[label_ind] = 1\n",
        "    res.append(oh_vector)\n",
        "    if (i+1) % 10 == 0:\n",
        "      print(f\"Done loading {i+1} labels\")\n",
        "\n",
        "  return res\n",
        "\n",
        "our_y = get_labels(our_data_paths)"
      ],
      "metadata": {
        "colab": {
          "base_uri": "https://localhost:8080/"
        },
        "id": "hlthgojnS4sk",
        "outputId": "5b40bb81-9a7a-47a8-cbf1-ded25c1f6954"
      },
      "execution_count": 9,
      "outputs": [
        {
          "output_type": "stream",
          "name": "stdout",
          "text": [
            "Done loading 10 labels\n",
            "Done loading 20 labels\n",
            "Done loading 30 labels\n",
            "Done loading 40 labels\n",
            "Done loading 50 labels\n"
          ]
        }
      ]
    },
    {
      "cell_type": "code",
      "execution_count": 10,
      "metadata": {
        "id": "j0ll0f79mqPY",
        "colab": {
          "base_uri": "https://localhost:8080/"
        },
        "outputId": "76bf46dd-23ef-45f4-f683-8d7ef3f60f0a"
      },
      "outputs": [
        {
          "output_type": "stream",
          "name": "stdout",
          "text": [
            "Number of images in the dataset:  50\n"
          ]
        }
      ],
      "source": [
        "classes = 10  # do not change this\n",
        "my_X_test = np.array(our_x)   # you must store the test images of your dataset in this varaible\n",
        "my_y_test = np.array(our_y)   # you must store the test images' labels of your dataset in this varaible\n",
        "\n",
        "###### Code Here ######\n",
        "'''Please note that you will have to extarct and one-hot encode the labels of the images for my_y_test'''\n",
        "\n",
        "\n",
        "\n",
        "print(\"Number of images in the dataset: \", len(my_X_test))    # You can change len(X_test) based on your implementation such that total number of test samples is printed"
      ]
    },
    {
      "cell_type": "markdown",
      "metadata": {
        "id": "u3zn9yeBnCSZ"
      },
      "source": [
        "Now you have to do the preprocessing of the images such that they are inline with the image properties of the images of Fashion MNIST dataset. This is the core task of this phase and completely dependent on your own research on preprocessing of data\n",
        "\n",
        "<b>HINT: Data Normalization is one of the ways the data is preprocessed</b>"
      ]
    },
    {
      "cell_type": "code",
      "execution_count": null,
      "metadata": {
        "id": "jCYWtB7Fm_Wt",
        "colab": {
          "base_uri": "https://localhost:8080/",
          "height": 35
        },
        "outputId": "bc372876-d6bf-483a-8d7f-c7e7050a8467"
      },
      "outputs": [
        {
          "output_type": "execute_result",
          "data": {
            "text/plain": [
              "'Do data preprocessing here. Whatever you do here, please make sure that at the very end your images are in my_X_test and labels are in my_y_test'"
            ],
            "application/vnd.google.colaboratory.intrinsic+json": {
              "type": "string"
            }
          },
          "metadata": {},
          "execution_count": 36
        }
      ],
      "source": [
        "'''Do data preprocessing here. Whatever you do here, please make sure that at the very end your images are in my_X_test and labels are in my_y_test'''\n",
        "###### Code Here ######\n",
        "\n",
        "\n",
        "\n"
      ]
    },
    {
      "cell_type": "code",
      "execution_count": null,
      "metadata": {
        "id": "8oab3cwsoBat",
        "colab": {
          "base_uri": "https://localhost:8080/"
        },
        "outputId": "70767b94-b75d-4cf3-d269-2ea300a83f23"
      },
      "outputs": [
        {
          "output_type": "stream",
          "name": "stdout",
          "text": [
            "(6.7037721969022, 0.1)\n"
          ]
        }
      ],
      "source": [
        "# print accuracy on your own dataset here\n",
        "print(nn.evaluate(my_X_test,my_y_test))"
      ]
    }
  ],
  "metadata": {
    "colab": {
      "collapsed_sections": [],
      "name": "group23_Phase3 (5).ipynb",
      "provenance": []
    },
    "kernelspec": {
      "display_name": "Python 3",
      "name": "python3"
    },
    "language_info": {
      "name": "python"
    },
    "widgets": {
      "application/vnd.jupyter.widget-state+json": {
        "06b2315e5db84b89b2438a91cc8390a1": {
          "model_module": "@jupyter-widgets/controls",
          "model_name": "HBoxModel",
          "model_module_version": "1.5.0",
          "state": {
            "_dom_classes": [],
            "_model_module": "@jupyter-widgets/controls",
            "_model_module_version": "1.5.0",
            "_model_name": "HBoxModel",
            "_view_count": null,
            "_view_module": "@jupyter-widgets/controls",
            "_view_module_version": "1.5.0",
            "_view_name": "HBoxView",
            "box_style": "",
            "children": [
              "IPY_MODEL_927bc1937e694cfb8bf21fa17d3b25ca",
              "IPY_MODEL_071af495f9104a8db1013e5e9235a70c",
              "IPY_MODEL_6be51b734e414c27b352150c43108de2"
            ],
            "layout": "IPY_MODEL_2e556e1e89274bd69411511793271d44"
          }
        },
        "927bc1937e694cfb8bf21fa17d3b25ca": {
          "model_module": "@jupyter-widgets/controls",
          "model_name": "HTMLModel",
          "model_module_version": "1.5.0",
          "state": {
            "_dom_classes": [],
            "_model_module": "@jupyter-widgets/controls",
            "_model_module_version": "1.5.0",
            "_model_name": "HTMLModel",
            "_view_count": null,
            "_view_module": "@jupyter-widgets/controls",
            "_view_module_version": "1.5.0",
            "_view_name": "HTMLView",
            "description": "",
            "description_tooltip": null,
            "layout": "IPY_MODEL_93c0e0806b6e4d20afc77cb0dcf5ef95",
            "placeholder": "​",
            "style": "IPY_MODEL_bf65c8b01fd6405fb8b7de30de24a5a1",
            "value": "100%"
          }
        },
        "071af495f9104a8db1013e5e9235a70c": {
          "model_module": "@jupyter-widgets/controls",
          "model_name": "FloatProgressModel",
          "model_module_version": "1.5.0",
          "state": {
            "_dom_classes": [],
            "_model_module": "@jupyter-widgets/controls",
            "_model_module_version": "1.5.0",
            "_model_name": "FloatProgressModel",
            "_view_count": null,
            "_view_module": "@jupyter-widgets/controls",
            "_view_module_version": "1.5.0",
            "_view_name": "ProgressView",
            "bar_style": "success",
            "description": "",
            "description_tooltip": null,
            "layout": "IPY_MODEL_51bab2d93a2044bcbf0c0e967fb81b06",
            "max": 100,
            "min": 0,
            "orientation": "horizontal",
            "style": "IPY_MODEL_35ce95fd4acc410bb7b02b1917ff399b",
            "value": 100
          }
        },
        "6be51b734e414c27b352150c43108de2": {
          "model_module": "@jupyter-widgets/controls",
          "model_name": "HTMLModel",
          "model_module_version": "1.5.0",
          "state": {
            "_dom_classes": [],
            "_model_module": "@jupyter-widgets/controls",
            "_model_module_version": "1.5.0",
            "_model_name": "HTMLModel",
            "_view_count": null,
            "_view_module": "@jupyter-widgets/controls",
            "_view_module_version": "1.5.0",
            "_view_name": "HTMLView",
            "description": "",
            "description_tooltip": null,
            "layout": "IPY_MODEL_741227a3fe764618a59292b63f676b76",
            "placeholder": "​",
            "style": "IPY_MODEL_a370bde1e0814b0f803ea56aa8094298",
            "value": " 100/100 [1:29:13&lt;00:00, 53.41s/it]"
          }
        },
        "2e556e1e89274bd69411511793271d44": {
          "model_module": "@jupyter-widgets/base",
          "model_name": "LayoutModel",
          "model_module_version": "1.2.0",
          "state": {
            "_model_module": "@jupyter-widgets/base",
            "_model_module_version": "1.2.0",
            "_model_name": "LayoutModel",
            "_view_count": null,
            "_view_module": "@jupyter-widgets/base",
            "_view_module_version": "1.2.0",
            "_view_name": "LayoutView",
            "align_content": null,
            "align_items": null,
            "align_self": null,
            "border": null,
            "bottom": null,
            "display": null,
            "flex": null,
            "flex_flow": null,
            "grid_area": null,
            "grid_auto_columns": null,
            "grid_auto_flow": null,
            "grid_auto_rows": null,
            "grid_column": null,
            "grid_gap": null,
            "grid_row": null,
            "grid_template_areas": null,
            "grid_template_columns": null,
            "grid_template_rows": null,
            "height": null,
            "justify_content": null,
            "justify_items": null,
            "left": null,
            "margin": null,
            "max_height": null,
            "max_width": null,
            "min_height": null,
            "min_width": null,
            "object_fit": null,
            "object_position": null,
            "order": null,
            "overflow": null,
            "overflow_x": null,
            "overflow_y": null,
            "padding": null,
            "right": null,
            "top": null,
            "visibility": null,
            "width": null
          }
        },
        "93c0e0806b6e4d20afc77cb0dcf5ef95": {
          "model_module": "@jupyter-widgets/base",
          "model_name": "LayoutModel",
          "model_module_version": "1.2.0",
          "state": {
            "_model_module": "@jupyter-widgets/base",
            "_model_module_version": "1.2.0",
            "_model_name": "LayoutModel",
            "_view_count": null,
            "_view_module": "@jupyter-widgets/base",
            "_view_module_version": "1.2.0",
            "_view_name": "LayoutView",
            "align_content": null,
            "align_items": null,
            "align_self": null,
            "border": null,
            "bottom": null,
            "display": null,
            "flex": null,
            "flex_flow": null,
            "grid_area": null,
            "grid_auto_columns": null,
            "grid_auto_flow": null,
            "grid_auto_rows": null,
            "grid_column": null,
            "grid_gap": null,
            "grid_row": null,
            "grid_template_areas": null,
            "grid_template_columns": null,
            "grid_template_rows": null,
            "height": null,
            "justify_content": null,
            "justify_items": null,
            "left": null,
            "margin": null,
            "max_height": null,
            "max_width": null,
            "min_height": null,
            "min_width": null,
            "object_fit": null,
            "object_position": null,
            "order": null,
            "overflow": null,
            "overflow_x": null,
            "overflow_y": null,
            "padding": null,
            "right": null,
            "top": null,
            "visibility": null,
            "width": null
          }
        },
        "bf65c8b01fd6405fb8b7de30de24a5a1": {
          "model_module": "@jupyter-widgets/controls",
          "model_name": "DescriptionStyleModel",
          "model_module_version": "1.5.0",
          "state": {
            "_model_module": "@jupyter-widgets/controls",
            "_model_module_version": "1.5.0",
            "_model_name": "DescriptionStyleModel",
            "_view_count": null,
            "_view_module": "@jupyter-widgets/base",
            "_view_module_version": "1.2.0",
            "_view_name": "StyleView",
            "description_width": ""
          }
        },
        "51bab2d93a2044bcbf0c0e967fb81b06": {
          "model_module": "@jupyter-widgets/base",
          "model_name": "LayoutModel",
          "model_module_version": "1.2.0",
          "state": {
            "_model_module": "@jupyter-widgets/base",
            "_model_module_version": "1.2.0",
            "_model_name": "LayoutModel",
            "_view_count": null,
            "_view_module": "@jupyter-widgets/base",
            "_view_module_version": "1.2.0",
            "_view_name": "LayoutView",
            "align_content": null,
            "align_items": null,
            "align_self": null,
            "border": null,
            "bottom": null,
            "display": null,
            "flex": null,
            "flex_flow": null,
            "grid_area": null,
            "grid_auto_columns": null,
            "grid_auto_flow": null,
            "grid_auto_rows": null,
            "grid_column": null,
            "grid_gap": null,
            "grid_row": null,
            "grid_template_areas": null,
            "grid_template_columns": null,
            "grid_template_rows": null,
            "height": null,
            "justify_content": null,
            "justify_items": null,
            "left": null,
            "margin": null,
            "max_height": null,
            "max_width": null,
            "min_height": null,
            "min_width": null,
            "object_fit": null,
            "object_position": null,
            "order": null,
            "overflow": null,
            "overflow_x": null,
            "overflow_y": null,
            "padding": null,
            "right": null,
            "top": null,
            "visibility": null,
            "width": null
          }
        },
        "35ce95fd4acc410bb7b02b1917ff399b": {
          "model_module": "@jupyter-widgets/controls",
          "model_name": "ProgressStyleModel",
          "model_module_version": "1.5.0",
          "state": {
            "_model_module": "@jupyter-widgets/controls",
            "_model_module_version": "1.5.0",
            "_model_name": "ProgressStyleModel",
            "_view_count": null,
            "_view_module": "@jupyter-widgets/base",
            "_view_module_version": "1.2.0",
            "_view_name": "StyleView",
            "bar_color": null,
            "description_width": ""
          }
        },
        "741227a3fe764618a59292b63f676b76": {
          "model_module": "@jupyter-widgets/base",
          "model_name": "LayoutModel",
          "model_module_version": "1.2.0",
          "state": {
            "_model_module": "@jupyter-widgets/base",
            "_model_module_version": "1.2.0",
            "_model_name": "LayoutModel",
            "_view_count": null,
            "_view_module": "@jupyter-widgets/base",
            "_view_module_version": "1.2.0",
            "_view_name": "LayoutView",
            "align_content": null,
            "align_items": null,
            "align_self": null,
            "border": null,
            "bottom": null,
            "display": null,
            "flex": null,
            "flex_flow": null,
            "grid_area": null,
            "grid_auto_columns": null,
            "grid_auto_flow": null,
            "grid_auto_rows": null,
            "grid_column": null,
            "grid_gap": null,
            "grid_row": null,
            "grid_template_areas": null,
            "grid_template_columns": null,
            "grid_template_rows": null,
            "height": null,
            "justify_content": null,
            "justify_items": null,
            "left": null,
            "margin": null,
            "max_height": null,
            "max_width": null,
            "min_height": null,
            "min_width": null,
            "object_fit": null,
            "object_position": null,
            "order": null,
            "overflow": null,
            "overflow_x": null,
            "overflow_y": null,
            "padding": null,
            "right": null,
            "top": null,
            "visibility": null,
            "width": null
          }
        },
        "a370bde1e0814b0f803ea56aa8094298": {
          "model_module": "@jupyter-widgets/controls",
          "model_name": "DescriptionStyleModel",
          "model_module_version": "1.5.0",
          "state": {
            "_model_module": "@jupyter-widgets/controls",
            "_model_module_version": "1.5.0",
            "_model_name": "DescriptionStyleModel",
            "_view_count": null,
            "_view_module": "@jupyter-widgets/base",
            "_view_module_version": "1.2.0",
            "_view_name": "StyleView",
            "description_width": ""
          }
        }
      }
    }
  },
  "nbformat": 4,
  "nbformat_minor": 0
}