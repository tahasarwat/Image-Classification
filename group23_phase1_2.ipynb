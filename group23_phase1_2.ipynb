{
  "cells": [
    {
      "cell_type": "markdown",
      "metadata": {
        "id": "vpn9k3BV1X2s"
      },
      "source": [
        "# CS331 - Spring 2022 - Phase 1 [10%]\n",
        "\n",
        "*__Submission Guidelines:__*\n",
        "- Naming convention for submission of this notebook is `groupXX_phase1.ipynb` where XX needs to be replaced by your group number. For example: group 1 would rename their notebook to `group01_phase1.ipynb`\n",
        "- Only the group lead is supposed to make the submission\n",
        "- All the cells <b>must</b> be run once before submission. If your submission's cells are not showing the results (plots etc.), marks wil be deducted\n",
        "- Only the code written within this notebook will be considered while grading. No other files will be entertained\n",
        "- You are advised to follow good programming practies including approriate variable naming and making use of logical comments \n",
        "\n",
        "Please note that your notebooks will be checked against submissions from last year's course offering for plagiarism. The university honor code should be maintained. Any violation, if found, will result in disciplinary action.\n"
      ]
    },
    {
      "cell_type": "markdown",
      "metadata": {
        "id": "D9cjup_91X2_"
      },
      "source": [
        "#### <b>Introduction</b> \n",
        "This is the first of the three phases of this offering's project. To give an overview of this phase, we will essentially be building everything from scratch. The datasets that we will be using for this project are the MNIST and the Fashion_MNIST dataset. <b> This notebook will focus on the Fashion_MNIST dataset. </b> \n",
        "\n",
        "The Fashion_MNIST dataset consists of 70,000 images of fashion/clothing items belonging to 10 different categories/classes. It has further been divided into 60,000 training images and 10,000 test images and each image is a 28*28 grayscale image (hence 1 color channel). It is recommended that you go through [this link](https://www.kaggle.com/zalando-research/fashionmnist) to familiarize yourself with the dataset.\n",
        "\n",
        "You will begin by manually loading both the dataset in this notebook (more instructions on this will follow) followed by from-scratch implementation of a Neural Netowrk (NN). Once done, you will have to tweak the hyperparameters (such as learning rate, number of epochs etc.) to get the best results for your NN's implementation\n",
        "\n",
        "###### <b>You will strictly be using for-loops fort this phase's implementation of NN (unless specified otherwise in the sub-section)\n",
        "\n",
        "###### Modification of the provided code without prior discussion with the TAs will result in a grade deduction</b>\n",
        "\n",
        "---\n",
        "\n",
        "###### <b>Side note</b>\n",
        "The `plot_model` method will only work if you have the `pydot` python package installed along with [Graphviz](https://graphviz.gitlab.io/download/). If you do not wish to use this then simply comment out the import for `pydot`\n",
        "\n",
        "###### <b>Need Help?</b>\n",
        "If you need help, please refer to the course staff ASAP and do not wait till the last moment as they might not be available on very short notice close to deadlines"
      ]
    },
    {
      "cell_type": "markdown",
      "metadata": {
        "id": "m5m1T5nJ6WH3"
      },
      "source": [
        "#### <b>Before You Begin</b>\n",
        "\n",
        "Skeleton code is provided to get you started. The main methods that you need to implement correspond to the four steps of the training process of a NN which are as follows:\n",
        "1. Initialize variables and initialize weights\n",
        "2. Forward pass\n",
        "3. Backward pass AKA Backpropagation\n",
        "4. Weight Update AKA Gradient Descent\n",
        "\n",
        "__Look for comments in the code to see where you are supposed to write your code__ \n",
        "\n",
        "A `fit` function is what combines the previous three functions and overall trains the network to __fit__ to the provided training examples. The provided `fit` methods requires all the four steps of the training process to be working correctly. The function has been setup in a way that it expects the above four methods to take particular inputs and return particular outputs. __You are supposed to work within this restriction__ \n",
        "\n",
        "\n",
        "\n",
        "__To see if your model is working correctly, you need to make sure that your model loss is going down during training__\n"
      ]
    },
    {
      "cell_type": "markdown",
      "source": [
        "Important Comment:\n",
        "# We are using a lower number of epoch which is 25 as that is giving us a higher test accuracy of approximately 77.81% and also increasing the number of epoch increases the risk of overfitting. Hence our model uses lower number of epoch"
      ],
      "metadata": {
        "id": "QHCDK4uQ153C"
      }
    },
    {
      "cell_type": "code",
      "execution_count": 137,
      "metadata": {
        "ExecuteTime": {
          "end_time": "2019-01-30T14:39:17.671980Z",
          "start_time": "2019-01-30T14:38:40.137027Z"
        },
        "id": "UPL8Ut1u1X2-"
      },
      "outputs": [],
      "source": [
        "# making all the necessary imports here\n",
        "\n",
        "import numpy as np\n",
        "import pandas as pd\n",
        "import time\n",
        "%matplotlib inline\n",
        "import matplotlib.pyplot as plt\n",
        "plt.style.use('seaborn')\n",
        "from IPython.display import Image\n",
        "import pydot\n",
        "from tqdm import tqdm_notebook\n",
        "import seaborn as sns\n",
        "from keras.datasets import fashion_mnist\n",
        "from sklearn.model_selection import train_test_split\n",
        "from keras.utils import np_utils\n",
        "from sklearn.datasets import make_moons\n",
        "from sklearn.linear_model import LinearRegression, LogisticRegression\n",
        "from sklearn.metrics import confusion_matrix, classification_report\n",
        "from google.colab import drive\n",
        "import glob\n",
        "import cv2\n",
        "from numba import jit"
      ]
    },
    {
      "cell_type": "code",
      "execution_count": 138,
      "metadata": {
        "id": "-y-6i2TL1X3C"
      },
      "outputs": [],
      "source": [
        "# This function will be used to plot the confusion matrix at the end of this notebook\n",
        "\n",
        "def plot_confusion_matrix(conf_mat):\n",
        "    classes = ['T-shirt/top','Trouser/pants','Pullover shirt','Dress','Coat','Sandal','Shirt','Sneaker','Bag','Ankle boot']\n",
        "    df_cm = pd.DataFrame(conf_mat,classes,classes)\n",
        "    plt.figure(figsize=(15,9))\n",
        "    sns.set(font_scale=1.4)\n",
        "    sns.heatmap(df_cm, annot=True,annot_kws={\"size\": 16})\n",
        "    plt.show()\n",
        "\n",
        "class_labels = ['T-shirt/top','Trouser/pants','Pullover shirt','Dress','Coat','Sandal','Shirt','Sneaker','Bag','Ankle Boot']"
      ]
    },
    {
      "cell_type": "code",
      "execution_count": 139,
      "metadata": {
        "ExecuteTime": {
          "end_time": "2019-01-30T14:36:37.383767Z",
          "start_time": "2019-01-30T14:36:37.333537Z"
        },
        "id": "xU_yqbc31X2_"
      },
      "outputs": [],
      "source": [
        "# Enter group lead's roll number here. This will be used for plotting purposes\n",
        "\n",
        "rollnumber = 24100043"
      ]
    },
    {
      "cell_type": "markdown",
      "metadata": {
        "id": "xHrz4X069_6D"
      },
      "source": [
        "#### __Read dataset__\n",
        "\n",
        "Get paths for all the training and test images in the dataset and print the length of training and test paths' list. For this purpose you can use glob. You can have a look [here](https://www.geeksforgeeks.org/how-to-use-glob-function-to-find-files-recursively-in-python/) on how to use glob. The dataset that has been provided to you guys is a truncated version of the Fashion MNIST dataset (having 2000 training images and 1600 test images, only)"
      ]
    },
    {
      "cell_type": "code",
      "source": [
        "from google.colab import drive\n",
        "drive.mount('/content/drive')"
      ],
      "metadata": {
        "colab": {
          "base_uri": "https://localhost:8080/"
        },
        "id": "P9ySvOPch186",
        "outputId": "4c2546cb-d9d6-4596-c6a5-44992c5cbefa"
      },
      "execution_count": 140,
      "outputs": [
        {
          "output_type": "stream",
          "name": "stdout",
          "text": [
            "Drive already mounted at /content/drive; to attempt to forcibly remount, call drive.mount(\"/content/drive\", force_remount=True).\n"
          ]
        }
      ]
    },
    {
      "cell_type": "code",
      "execution_count": 141,
      "metadata": {
        "id": "3g1jPQ5xaTlj"
      },
      "outputs": [],
      "source": [
        "# Edit this address so that it points to the dataset's zipped file on your Google Drive\n",
        "!unzip -o -q \"/content/drive/MyDrive/Fashion MNIST/dataset.zip\" -d \"/content/drive/MyDrive/Fashion MNIST/dataset\""
      ]
    },
    {
      "cell_type": "code",
      "source": [
        "import os\n",
        "for dirpath, dirnames, filenames in os.walk(\"/content/drive/MyDrive/Fashion MNIST/dataset\"):\n",
        "  print(f\"There are {len(dirnames)} directories and {len(filenames)} files in {dirpath}\")"
      ],
      "metadata": {
        "id": "4cEdYEy9iQcl",
        "colab": {
          "base_uri": "https://localhost:8080/"
        },
        "outputId": "8b5a8cbf-6f9d-4f7a-b05c-e9e342efe6d6"
      },
      "execution_count": 142,
      "outputs": [
        {
          "output_type": "stream",
          "name": "stdout",
          "text": [
            "There are 2 directories and 0 files in /content/drive/MyDrive/Fashion MNIST/dataset\n",
            "There are 10 directories and 0 files in /content/drive/MyDrive/Fashion MNIST/dataset/train\n",
            "There are 0 directories and 200 files in /content/drive/MyDrive/Fashion MNIST/dataset/train/top\n",
            "There are 0 directories and 200 files in /content/drive/MyDrive/Fashion MNIST/dataset/train/shirt\n",
            "There are 0 directories and 200 files in /content/drive/MyDrive/Fashion MNIST/dataset/train/dress\n",
            "There are 0 directories and 200 files in /content/drive/MyDrive/Fashion MNIST/dataset/train/sneaker\n",
            "There are 0 directories and 200 files in /content/drive/MyDrive/Fashion MNIST/dataset/train/pants\n",
            "There are 0 directories and 200 files in /content/drive/MyDrive/Fashion MNIST/dataset/train/pullovershirt\n",
            "There are 0 directories and 200 files in /content/drive/MyDrive/Fashion MNIST/dataset/train/anklefoot\n",
            "There are 0 directories and 200 files in /content/drive/MyDrive/Fashion MNIST/dataset/train/sandal\n",
            "There are 0 directories and 200 files in /content/drive/MyDrive/Fashion MNIST/dataset/train/coat\n",
            "There are 0 directories and 200 files in /content/drive/MyDrive/Fashion MNIST/dataset/train/bag\n",
            "There are 10 directories and 0 files in /content/drive/MyDrive/Fashion MNIST/dataset/test\n",
            "There are 0 directories and 160 files in /content/drive/MyDrive/Fashion MNIST/dataset/test/top\n",
            "There are 0 directories and 160 files in /content/drive/MyDrive/Fashion MNIST/dataset/test/pullovershirt\n",
            "There are 0 directories and 160 files in /content/drive/MyDrive/Fashion MNIST/dataset/test/shirt\n",
            "There are 0 directories and 160 files in /content/drive/MyDrive/Fashion MNIST/dataset/test/sandal\n",
            "There are 0 directories and 160 files in /content/drive/MyDrive/Fashion MNIST/dataset/test/pants\n",
            "There are 0 directories and 160 files in /content/drive/MyDrive/Fashion MNIST/dataset/test/anklefoot\n",
            "There are 0 directories and 160 files in /content/drive/MyDrive/Fashion MNIST/dataset/test/dress\n",
            "There are 0 directories and 160 files in /content/drive/MyDrive/Fashion MNIST/dataset/test/bag\n",
            "There are 0 directories and 160 files in /content/drive/MyDrive/Fashion MNIST/dataset/test/sneaker\n",
            "There are 0 directories and 160 files in /content/drive/MyDrive/Fashion MNIST/dataset/test/coat\n"
          ]
        }
      ]
    },
    {
      "cell_type": "code",
      "source": [
        "train_paths = glob.glob(\"/content/drive/MyDrive/Fashion MNIST/dataset/train/**/*.png\", recursive=True)\n",
        "test_paths = glob.glob(\"/content/drive/MyDrive/Fashion MNIST/dataset/test/**/*.png\", recursive=True)\n",
        "print(f\"There are {len(train_paths)} training images and {len(test_paths)} test images.\")"
      ],
      "metadata": {
        "colab": {
          "base_uri": "https://localhost:8080/"
        },
        "id": "4MWtbsU5ixMU",
        "outputId": "027e1495-766a-4f99-8051-904d42074075"
      },
      "execution_count": 143,
      "outputs": [
        {
          "output_type": "stream",
          "name": "stdout",
          "text": [
            "There are 2000 training images and 1600 test images.\n"
          ]
        }
      ]
    },
    {
      "cell_type": "code",
      "source": [
        "# Shuffle the training and testing images\n",
        "np.random.shuffle(train_paths)\n",
        "np.random.shuffle(test_paths)\n",
        "\n",
        "def get_label(filepath):\n",
        "  text_label = filepath.split('/')[-2]\n",
        "  oh_vector = np.zeros(10)\n",
        "\n",
        "  label_ind = true_classes.index(text_label)\n",
        "  oh_vector[label_ind] = 1\n",
        "  return oh_vector"
      ],
      "metadata": {
        "id": "ZZ8RXGL-jHBD"
      },
      "execution_count": 144,
      "outputs": []
    },
    {
      "cell_type": "code",
      "source": [
        "def get_data(filepaths):\n",
        "  res = []\n",
        "  for i,path in enumerate(filepaths):\n",
        "    if i%200 == 0:\n",
        "      print(f\"Done loading {i} images\")\n",
        "    img = plt.imread(path)\n",
        "    res.append(img)\n",
        "  return res\n",
        "\n"
      ],
      "metadata": {
        "id": "kmZ-n7uimcHs"
      },
      "execution_count": 145,
      "outputs": []
    },
    {
      "cell_type": "code",
      "source": [
        "# declaring true classes\n",
        "true_classes = [\"top\", \"shirt\", \"dress\", \"sneaker\", \"pants\", \"pullovershirt\", \"anklefoot\", \"sandal\", \"coat\", \"bag\"]"
      ],
      "metadata": {
        "id": "tB31EBb-oqW1"
      },
      "execution_count": 146,
      "outputs": []
    },
    {
      "cell_type": "code",
      "source": [
        "def get_labels(filepaths):\n",
        "  res = []\n",
        "\n",
        "  for i, path in enumerate(filepaths):\n",
        "    text_label = path.split('/')[-2]\n",
        "    oh_vector = np.zeros(10)\n",
        "\n",
        "    label_ind = true_classes.index(text_label)\n",
        "    oh_vector[label_ind] = 1\n",
        "    res.append(oh_vector)\n",
        "    if i % 200 == 0:\n",
        "      print(f\"Done loading {i} labels\")\n",
        "\n",
        "  return res"
      ],
      "metadata": {
        "id": "gx9khmmJqh_x"
      },
      "execution_count": 147,
      "outputs": []
    },
    {
      "cell_type": "code",
      "source": [
        "x_train = get_data(train_paths)"
      ],
      "metadata": {
        "id": "HPRrdCjpzV9F",
        "colab": {
          "base_uri": "https://localhost:8080/"
        },
        "outputId": "70bfdd6d-2c6e-45e6-c048-fdf8b8e60487"
      },
      "execution_count": 148,
      "outputs": [
        {
          "output_type": "stream",
          "name": "stdout",
          "text": [
            "Done loading 0 images\n",
            "Done loading 200 images\n",
            "Done loading 400 images\n",
            "Done loading 600 images\n",
            "Done loading 800 images\n",
            "Done loading 1000 images\n",
            "Done loading 1200 images\n",
            "Done loading 1400 images\n",
            "Done loading 1600 images\n",
            "Done loading 1800 images\n"
          ]
        }
      ]
    },
    {
      "cell_type": "code",
      "source": [
        "y_train = get_labels(train_paths)"
      ],
      "metadata": {
        "id": "I2b2jE66rRqb",
        "colab": {
          "base_uri": "https://localhost:8080/"
        },
        "outputId": "2b6ed36a-f671-4046-a1e3-71471eff78ae"
      },
      "execution_count": 149,
      "outputs": [
        {
          "output_type": "stream",
          "name": "stdout",
          "text": [
            "Done loading 0 labels\n",
            "Done loading 200 labels\n",
            "Done loading 400 labels\n",
            "Done loading 600 labels\n",
            "Done loading 800 labels\n",
            "Done loading 1000 labels\n",
            "Done loading 1200 labels\n",
            "Done loading 1400 labels\n",
            "Done loading 1600 labels\n",
            "Done loading 1800 labels\n"
          ]
        }
      ]
    },
    {
      "cell_type": "code",
      "source": [
        "x_test = get_data(test_paths)"
      ],
      "metadata": {
        "id": "EeqwrAw6sOGM",
        "colab": {
          "base_uri": "https://localhost:8080/"
        },
        "outputId": "09c05625-a979-400c-95cf-9fc2738e3d1e"
      },
      "execution_count": 150,
      "outputs": [
        {
          "output_type": "stream",
          "name": "stdout",
          "text": [
            "Done loading 0 images\n",
            "Done loading 200 images\n",
            "Done loading 400 images\n",
            "Done loading 600 images\n",
            "Done loading 800 images\n",
            "Done loading 1000 images\n",
            "Done loading 1200 images\n",
            "Done loading 1400 images\n"
          ]
        }
      ]
    },
    {
      "cell_type": "code",
      "source": [
        "y_test = get_labels(test_paths)"
      ],
      "metadata": {
        "id": "NSXKvcA0umAX",
        "colab": {
          "base_uri": "https://localhost:8080/"
        },
        "outputId": "20c89a4f-d897-456f-c10b-57bbbcebc44e"
      },
      "execution_count": 151,
      "outputs": [
        {
          "output_type": "stream",
          "name": "stdout",
          "text": [
            "Done loading 0 labels\n",
            "Done loading 200 labels\n",
            "Done loading 400 labels\n",
            "Done loading 600 labels\n",
            "Done loading 800 labels\n",
            "Done loading 1000 labels\n",
            "Done loading 1200 labels\n",
            "Done loading 1400 labels\n"
          ]
        }
      ]
    },
    {
      "cell_type": "code",
      "execution_count": 152,
      "metadata": {
        "id": "nBj9_sg9-Auu",
        "colab": {
          "base_uri": "https://localhost:8080/"
        },
        "outputId": "7a4f3c22-6f5c-4596-e114-26faaaf10cc6"
      },
      "outputs": [
        {
          "output_type": "stream",
          "name": "stdout",
          "text": [
            "Number of training sample:  2000\n",
            "Number of testing sample:  1600\n"
          ]
        }
      ],
      "source": [
        "classes = 10  # do not change this\n",
        "x_train = np.array(x_train)  # you must store the training images in this variable \n",
        "y_train = np.array(y_train)  # you must store the training images' labels in this variable\n",
        "x_test = np.array(x_test)   # you must store the test images in this variable\n",
        "y_test = np.array(y_test)   # you must store the test images' labels in this variable\n",
        "\n",
        "###### Code Here ######\n",
        "'''Please note that you will have to extract and one-hot encode the labels of the images for both y_train and y_test'''\n",
        "\n",
        "\n",
        "\n",
        "print(\"Number of training sample: \", len(x_train))  # You can change len(X_train) based on your implementation such that total number of training samples is printed\n",
        "print(\"Number of testing sample: \", len(x_test))    # You can change len(X_test) based on your implementation such that total number of test samples is printed\n"
      ]
    },
    {
      "cell_type": "code",
      "source": [
        "\n",
        "@jit\n",
        "def my_matmul(a,b):\n",
        "  row_a=a.shape[0]\n",
        "  row_b=b.shape[0]\n",
        "  col_b=b.shape[1]\n",
        "  prod= np.zeros((row_a, col_b))\n",
        "  for i in range(row_a): #rows of a\n",
        "\n",
        "    for j in range(col_b): #col of b\n",
        "      for k in range(row_b): #row of b\n",
        "        prod[i][j]+= a[i][k]*b[k][j]\n",
        "  return prod"
      ],
      "metadata": {
        "id": "5YkIdcIc1JsE"
      },
      "execution_count": 153,
      "outputs": []
    },
    {
      "cell_type": "markdown",
      "metadata": {
        "hidden": true,
        "id": "QOxoQ-_B1X3B"
      },
      "source": [
        "#### __NN Implementation__\n",
        "Your implementation of NN needs to use the `sigmoid` activation function for the hidden layer(s) and the `softmax` activation function for the output layer. The NN model you will be creating here will consits of only three layers: 1 input layer, 1 hidden layer and 1 output layer"
      ]
    },
    {
      "cell_type": "code",
      "execution_count": 154,
      "metadata": {
        "ExecuteTime": {
          "end_time": "2019-01-27T01:25:17.044301Z",
          "start_time": "2019-01-27T01:25:16.984346Z"
        },
        "hidden": true,
        "id": "iP5ZI2Rs1X3C"
      },
      "outputs": [],
      "source": [
        "class NeuralNetwork():\n",
        "    \n",
        "    @staticmethod\n",
        "    def cross_entropy_loss(y_pred, y_true):\n",
        "        ###### Code Here ######\n",
        "        \"\"\"\n",
        "        Calculates the cross-entropy loss.\n",
        "        y_pred and y_true are vectors of size 10.\n",
        "        Outputs an int (the cross-entropy loss)\n",
        "        \"\"\"\n",
        "        m = y_pred.shape[0]\n",
        "        \n",
        "        inner_term = y_true * np.log(y_pred)\n",
        "        loss = -(1/m) * np.sum(inner_term)\n",
        "        \n",
        "  \n",
        "        return loss\n",
        "    \n",
        "    @staticmethod\n",
        "    def accuracy(y_pred, y_true):\n",
        "        ###### Code Here ######\n",
        "        \n",
        "\n",
        "        return np.mean(y_pred == y_true)\n",
        "    \n",
        "    @staticmethod\n",
        "    def softmax(x):\n",
        "        ###### Code Here ######\n",
        "        \"\"\"\n",
        "        Applies the softmax function on x and returns the activated value\n",
        "        \"\"\"\n",
        "        return np.exp(x) / np.sum(np.exp(x), axis=1, keepdims=True)\n",
        "    \n",
        "    @staticmethod\n",
        "    def sigmoid(x):\n",
        "        ###### Code Here ######\n",
        "        \"\"\"\n",
        "        Applies the sigmoid function on x and returns the activated value\n",
        "        \"\"\"\n",
        "        z = 1 / (1 + np.exp(-x))\n",
        "        \n",
        "        return z\n",
        "    \n",
        "    def __init__(self, input_size, hidden_nodes, output_size):\n",
        "        '''Creates a Feed-Forward Neural Network.\n",
        "        The parameters represent the number of nodes in each layer (total 3). \n",
        "        Look at the inputs to the function'''\n",
        "        \n",
        "        self.num_layers = 3\n",
        "        self.input_shape = input_size\n",
        "        self.hidden_shape = hidden_nodes\n",
        "        self.output_shape = output_size\n",
        "        \n",
        "        self.weights_ = []\n",
        "        self.biases_ = []\n",
        "        self.__init_weights()\n",
        "    \n",
        "    def __init_weights(self):\n",
        "        '''Initializes all weights based on standard normal distribution and all biases to 0.'''\n",
        "        \n",
        "        ###### Code Here (Replace 'None' by appropriate values/variables) ######\n",
        "        \n",
        "        W_h = np.random.normal(size=(self.input_shape, self.hidden_shape))\n",
        "        b_h = np.zeros(shape=(self.hidden_shape, ))\n",
        "\n",
        "        W_o = np.random.normal(size=(self.hidden_shape, self.output_shape))\n",
        "        b_o = np.zeros(shape=(self.output_shape, ))\n",
        "        \n",
        "        # self.weights_ becomes a list of np.arrays. 0th index has W_h and 1st index has W_o\n",
        "        self.weights_.append(W_h)  \n",
        "        self.weights_.append(W_o)  \n",
        "\n",
        "        # self.biases_ becomes a list of np.arrays. 0th index has b_h and 1st index has b_o\n",
        "        self.biases_.append(b_h)\n",
        "        self.biases_.append(b_o)\n",
        "\n",
        "    def forward_pass(self, input_data):\n",
        "        '''Executes the feed forward algorithm.\n",
        "        \"input_data\" is the input to the network in row-major form\n",
        "        Returns \"activations\", which is a list of all layer outputs (excluding input layer of course)'''\n",
        "\n",
        "        ###### Code Here ######\n",
        "        inner_term_1 = my_matmul(input_data, self.weights_[0])\n",
        "        output_1 = inner_term_1 + self.biases_[0]\n",
        "        activated_1 = self.sigmoid(output_1)\n",
        "        \n",
        "        inner_term_2 = my_matmul(activated_1, self.weights_[1])\n",
        "        output_2 = inner_term_2 + self.biases_[1]\n",
        "        activated_2 = self.softmax(output_2)\n",
        "        \n",
        "        activations = [activated_1, activated_2]\n",
        "\n",
        "        return activations\n",
        "\n",
        "    def backward_pass(self, targets, layer_activations):\n",
        "        '''Executes the backpropogation algorithm.\n",
        "        \"targets\" is the ground truth/labels\n",
        "        \"layer_activations\" are the return value of the forward pass step\n",
        "        Returns \"deltas\", which is a list containing weight update values for all layers (excluding the input layer of course)'''\n",
        "        \n",
        "        ###### Code Here ######\n",
        "        delta_3 = layer_activations[1] - targets\n",
        "        \n",
        "        # calculating delta 2\n",
        "        term_1 = my_matmul(delta_3, self.weights_[1].T)\n",
        "        term_2 = layer_activations[0] * (1 - layer_activations[0])\n",
        "        delta_2 = term_1 * term_2\n",
        "\n",
        "        deltas = [delta_2, delta_3]\n",
        "    \n",
        "        return deltas\n",
        "    \n",
        "    def weight_update(self, deltas, layer_inputs, lr):\n",
        "        '''Executes the gradient descent algorithm.\n",
        "        \"deltas\" is return value of the backward pass step\n",
        "        \"layer_inputs\" is a list containing the inputs for all layers (including the input layer)\n",
        "        \"lr\" is the learning rate'''\n",
        "        \n",
        "        ###### Code Here ######\n",
        "        # updating weights of the input to hidden layer\n",
        "        update_1 = my_matmul(deltas[0].T, layer_inputs[0])\n",
        "        update_1 = update_1.T\n",
        "        \n",
        "        self.weights_[0] = self.weights_[0] - (lr * update_1)\n",
        "        \n",
        "        # updating weights of the hidden to output layer\n",
        "        update_2 = my_matmul(deltas[1].T, layer_inputs[1])\n",
        "        update_2 = update_2.T\n",
        "        \n",
        "        self.weights_[1] = self.weights_[1] - (lr * update_2)\n",
        "        \n",
        "        self.biases_[0] -= (lr * deltas[0].sum())\n",
        "        self.biases_[1] -= (lr * deltas[1].sum())\n",
        "\n",
        "    \n",
        "    def fit(self, Xs, Ys, epochs, lr=1e-3):\n",
        "            history = []\n",
        "            for epoch in tqdm_notebook(range(epochs)):\n",
        "                num_samples = Xs.shape[0]\n",
        "                for i in range(num_samples):\n",
        "\n",
        "                    sample_input = Xs[i,:].reshape((1,self.input_shape))\n",
        "                    sample_target = Ys[i,:].reshape((1,self.output_shape))\n",
        "                    \n",
        "                    activations = self.forward_pass(sample_input)   # Call forward_pass function \n",
        "                    deltas = self.backward_pass(sample_target, activations)    # Call backward_pass function \n",
        "                    layer_inputs = [sample_input] + activations[:-1]\n",
        "                    \n",
        "                    # Call weight_update function \n",
        "                    self.weight_update(deltas, layer_inputs, lr)\n",
        "                \n",
        "                preds = self.predict(Xs)   # Call predict function \n",
        "\n",
        "                current_loss = self.cross_entropy_loss(preds, Ys)\n",
        "                \n",
        "                if  epoch==epochs-1:\n",
        "                  confusion_mat=confusion_matrix(Ys.argmax(axis=1), preds.argmax(axis=1),labels=np.arange(10))  \n",
        "                  plot_confusion_matrix(confusion_mat)\n",
        "                  report = classification_report(Ys, np_utils.to_categorical(preds.argmax(axis=1),num_classes=classes), target_names=class_labels)\n",
        "                  print(report)\n",
        "                history.append(current_loss)\n",
        "            return history\n",
        "    \n",
        "    def predict(self, Xs):\n",
        "        '''Returns the model predictions (output of the last layer) for the given \"Xs\".'''\n",
        "        predictions = []\n",
        "        num_samples = Xs.shape[0]\n",
        "        for i in range(num_samples):\n",
        "            sample = Xs[i,:].reshape((1,self.input_shape))\n",
        "            sample_prediction = self.forward_pass(sample)[-1]\n",
        "            predictions.append(sample_prediction.reshape((self.output_shape,)))\n",
        "        return np.array(predictions)\n",
        "    \n",
        "    def evaluate(self, Xs, Ys):\n",
        "        '''Returns appropriate metrics for the task, calculated on the dataset passed to this method.'''\n",
        "        pred = self.predict(Xs)\n",
        "        return self.cross_entropy_loss(pred, Ys), self.accuracy(pred.argmax(axis=1), Ys.argmax(axis=1))\n",
        "    \n",
        "    def plot_model(self, filename):\n",
        "        '''Provide the \"filename\" as a string including file extension. Creates an image showing the model as a graph.'''\n",
        "        graph = pydot.Dot(graph_type='digraph')\n",
        "        graph.set_rankdir('LR')\n",
        "        graph.set_node_defaults(shape='circle', fontsize=0)\n",
        "        nodes_per_layer = [self.input_shape, self.hidden_shape, self.output_shape]\n",
        "        for i in range(self.num_layers-1):\n",
        "            for n1 in range(nodes_per_layer[i]):\n",
        "                for n2 in range(nodes_per_layer[i+1]):\n",
        "                    edge = pydot.Edge(f'l{i}n{n1}', f'l{i+1}n{n2}')\n",
        "                    graph.add_edge(edge)\n",
        "        graph.write_png(filename)"
      ]
    },
    {
      "cell_type": "code",
      "execution_count": 155,
      "metadata": {
        "id": "_200Z0dwE2Fq"
      },
      "outputs": [],
      "source": [
        "# These are what we call the hyperparameters (a.k.a Black Magic). You need to research on them and tweak them to see what generates the best result for you \n",
        "\n",
        "INPUT_SIZE = 28 * 28       # must be an int, this number represents the numeber of nodes/neurons in the input layer of the network\n",
        "HIDDEN_NODES = 64   # must be an int, this number represents the numeber of nodes/neurons in the only hidden layer of the network\n",
        "OUTPUT_SIZE = 10      # must be an int, this number represents the numeber of nodes/neurons in the output layer of the network\n",
        "EPOCHS = 25    # must be an int\n",
        "LEARNING_RATE = 0.03"
      ]
    },
    {
      "cell_type": "code",
      "execution_count": 156,
      "metadata": {
        "id": "FRtc2Dzc2D_H",
        "colab": {
          "base_uri": "https://localhost:8080/",
          "height": 1000,
          "referenced_widgets": [
            "95c84a047e1e4bd08fd8bec72b986889",
            "0a2df55fce9c41f18366e78bf1643abb",
            "99b57d328a0340b8ba80db128f9f1059",
            "66162034cd5544df9d55b78ca42bd060",
            "30e0cd71b4a045bf964a0d4a945fb953",
            "05ea4ec2a46c40c7a529ff25879fdf22",
            "1f1a4b5345b14396aa88f241d18fb828",
            "4b661b268f0742dd8e28a99a36717428",
            "25fdf09443e74b0aabfb90cbfe5bf1be",
            "1ddbed89f78b4a60b6e7de6a8cef879e",
            "f2d680cf24c84269a2e9b1baf3c94a78"
          ]
        },
        "outputId": "b21e4394-fd51-4f11-effb-572857c60567"
      },
      "outputs": [
        {
          "output_type": "stream",
          "name": "stderr",
          "text": [
            "/usr/local/lib/python3.7/dist-packages/ipykernel_launcher.py:138: TqdmDeprecationWarning: This function will be removed in tqdm==5.0.0\n",
            "Please use `tqdm.notebook.tqdm` instead of `tqdm.tqdm_notebook`\n"
          ]
        },
        {
          "output_type": "display_data",
          "data": {
            "text/plain": [
              "  0%|          | 0/25 [00:00<?, ?it/s]"
            ],
            "application/vnd.jupyter.widget-view+json": {
              "version_major": 2,
              "version_minor": 0,
              "model_id": "95c84a047e1e4bd08fd8bec72b986889"
            }
          },
          "metadata": {}
        },
        {
          "output_type": "display_data",
          "data": {
            "text/plain": [
              "<Figure size 1080x648 with 2 Axes>"
            ],
            "image/png": "[encoded data removed]"
          },
          "metadata": {}
        },
        {
          "output_type": "stream",
          "name": "stdout",
          "text": [
            "                precision    recall  f1-score   support\n",
            "\n",
            "   T-shirt/top       0.92      0.90      0.91       200\n",
            " Trouser/pants       0.74      0.91      0.81       200\n",
            "Pullover shirt       0.99      0.89      0.94       200\n",
            "         Dress       1.00      0.98      0.99       200\n",
            "          Coat       0.99      0.99      0.99       200\n",
            "        Sandal       0.94      0.80      0.86       200\n",
            "         Shirt       0.97      1.00      0.99       200\n",
            "       Sneaker       1.00      0.99      0.99       200\n",
            "           Bag       0.85      0.89      0.87       200\n",
            "    Ankle Boot       0.98      0.98      0.98       200\n",
            "\n",
            "     micro avg       0.93      0.93      0.93      2000\n",
            "     macro avg       0.94      0.93      0.93      2000\n",
            "  weighted avg       0.94      0.93      0.93      2000\n",
            "   samples avg       0.93      0.93      0.93      2000\n",
            "\n",
            "Runtime of the algorithm is  49.719  seconds\n"
          ]
        },
        {
          "output_type": "display_data",
          "data": {
            "text/plain": [
              "<Figure size 576x396 with 1 Axes>"
            ],
            "image/png": "[encoded data removed]"
          },
          "metadata": {}
        }
      ],
      "source": [
        "start = time.time()\n",
        "\n",
        "nn = NeuralNetwork(input_size = INPUT_SIZE, hidden_nodes = HIDDEN_NODES, output_size = OUTPUT_SIZE)\n",
        "history = nn.fit(x_train, y_train, epochs= EPOCHS, lr=LEARNING_RATE)\n",
        "plt.plot(history);\n",
        "plt.gca().set(xlabel='Epoch', ylabel='Cross-entropy', title='Training Plot {}'.format(rollnumber));\n",
        "end = time.time()\n",
        "\n",
        "print(\"Runtime of the algorithm is \", round((end - start),3),\" seconds\")"
      ]
    },
    {
      "cell_type": "code",
      "source": [
        "train_accuracy=nn.evaluate(x_train, y_train)\n",
        "train_accuracy=train_accuracy[1]*100\n",
        "print(\"training set accuracy: \", train_accuracy)"
      ],
      "metadata": {
        "id": "z1j4asf4x2ZY",
        "colab": {
          "base_uri": "https://localhost:8080/"
        },
        "outputId": "70427148-13df-47a8-8670-3b5d5f68e3c4"
      },
      "execution_count": 157,
      "outputs": [
        {
          "output_type": "stream",
          "name": "stdout",
          "text": [
            "training set accuracy:  93.15\n"
          ]
        }
      ]
    },
    {
      "cell_type": "code",
      "source": [
        "test_accuracy=nn.evaluate(x_test, y_test)\n",
        "test_accuracy=test_accuracy[1]*100\n",
        "print(\"test set accuracy: \",test_accuracy)"
      ],
      "metadata": {
        "id": "2YTyubdzx3HC",
        "colab": {
          "base_uri": "https://localhost:8080/"
        },
        "outputId": "59c5891c-af14-493d-8bb1-125a99089d64"
      },
      "execution_count": 158,
      "outputs": [
        {
          "output_type": "stream",
          "name": "stdout",
          "text": [
            "test set accuracy:  77.8125\n"
          ]
        }
      ]
    },
    {
      "cell_type": "code",
      "source": [
        ""
      ],
      "metadata": {
        "id": "mCiyCCoN0VT6"
      },
      "execution_count": 158,
      "outputs": []
    }
  ],
  "metadata": {
    "colab": {
      "collapsed_sections": [],
      "name": "group23_phase1_2.ipynb",
      "provenance": []
    },
    "kernelspec": {
      "display_name": "Python 3",
      "language": "python",
      "name": "python3"
    },
    "language_info": {
      "codemirror_mode": {
        "name": "ipython",
        "version": 3
      },
      "file_extension": ".py",
      "mimetype": "text/x-python",
      "name": "python",
      "nbconvert_exporter": "python",
      "pygments_lexer": "ipython3",
      "version": "3.7.3"
    },
    "notify_time": "5",
    "toc": {
      "base_numbering": 1,
      "nav_menu": {},
      "number_sections": true,
      "sideBar": true,
      "skip_h1_title": false,
      "title_cell": "Table of Contents",
      "title_sidebar": "Contents",
      "toc_cell": false,
      "toc_position": {},
      "toc_section_display": true,
      "toc_window_display": false
    },
    "widgets": {
      "application/vnd.jupyter.widget-state+json": {
        "95c84a047e1e4bd08fd8bec72b986889": {
          "model_module": "@jupyter-widgets/controls",
          "model_name": "HBoxModel",
          "model_module_version": "1.5.0",
          "state": {
            "_dom_classes": [],
            "_model_module": "@jupyter-widgets/controls",
            "_model_module_version": "1.5.0",
            "_model_name": "HBoxModel",
            "_view_count": null,
            "_view_module": "@jupyter-widgets/controls",
            "_view_module_version": "1.5.0",
            "_view_name": "HBoxView",
            "box_style": "",
            "children": [
              "IPY_MODEL_0a2df55fce9c41f18366e78bf1643abb",
              "IPY_MODEL_99b57d328a0340b8ba80db128f9f1059",
              "IPY_MODEL_66162034cd5544df9d55b78ca42bd060"
            ],
            "layout": "IPY_MODEL_30e0cd71b4a045bf964a0d4a945fb953"
          }
        },
        "0a2df55fce9c41f18366e78bf1643abb": {
          "model_module": "@jupyter-widgets/controls",
          "model_name": "HTMLModel",
          "model_module_version": "1.5.0",
          "state": {
            "_dom_classes": [],
            "_model_module": "@jupyter-widgets/controls",
            "_model_module_version": "1.5.0",
            "_model_name": "HTMLModel",
            "_view_count": null,
            "_view_module": "@jupyter-widgets/controls",
            "_view_module_version": "1.5.0",
            "_view_name": "HTMLView",
            "description": "",
            "description_tooltip": null,
            "layout": "IPY_MODEL_05ea4ec2a46c40c7a529ff25879fdf22",
            "placeholder": "​",
            "style": "IPY_MODEL_1f1a4b5345b14396aa88f241d18fb828",
            "value": "100%"
          }
        },
        "99b57d328a0340b8ba80db128f9f1059": {
          "model_module": "@jupyter-widgets/controls",
          "model_name": "FloatProgressModel",
          "model_module_version": "1.5.0",
          "state": {
            "_dom_classes": [],
            "_model_module": "@jupyter-widgets/controls",
            "_model_module_version": "1.5.0",
            "_model_name": "FloatProgressModel",
            "_view_count": null,
            "_view_module": "@jupyter-widgets/controls",
            "_view_module_version": "1.5.0",
            "_view_name": "ProgressView",
            "bar_style": "success",
            "description": "",
            "description_tooltip": null,
            "layout": "IPY_MODEL_4b661b268f0742dd8e28a99a36717428",
            "max": 25,
            "min": 0,
            "orientation": "horizontal",
            "style": "IPY_MODEL_25fdf09443e74b0aabfb90cbfe5bf1be",
            "value": 25
          }
        },
        "66162034cd5544df9d55b78ca42bd060": {
          "model_module": "@jupyter-widgets/controls",
          "model_name": "HTMLModel",
          "model_module_version": "1.5.0",
          "state": {
            "_dom_classes": [],
            "_model_module": "@jupyter-widgets/controls",
            "_model_module_version": "1.5.0",
            "_model_name": "HTMLModel",
            "_view_count": null,
            "_view_module": "@jupyter-widgets/controls",
            "_view_module_version": "1.5.0",
            "_view_name": "HTMLView",
            "description": "",
            "description_tooltip": null,
            "layout": "IPY_MODEL_1ddbed89f78b4a60b6e7de6a8cef879e",
            "placeholder": "​",
            "style": "IPY_MODEL_f2d680cf24c84269a2e9b1baf3c94a78",
            "value": " 25/25 [00:49&lt;00:00,  2.14s/it]"
          }
        },
        "30e0cd71b4a045bf964a0d4a945fb953": {
          "model_module": "@jupyter-widgets/base",
          "model_name": "LayoutModel",
          "model_module_version": "1.2.0",
          "state": {
            "_model_module": "@jupyter-widgets/base",
            "_model_module_version": "1.2.0",
            "_model_name": "LayoutModel",
            "_view_count": null,
            "_view_module": "@jupyter-widgets/base",
            "_view_module_version": "1.2.0",
            "_view_name": "LayoutView",
            "align_content": null,
            "align_items": null,
            "align_self": null,
            "border": null,
            "bottom": null,
            "display": null,
            "flex": null,
            "flex_flow": null,
            "grid_area": null,
            "grid_auto_columns": null,
            "grid_auto_flow": null,
            "grid_auto_rows": null,
            "grid_column": null,
            "grid_gap": null,
            "grid_row": null,
            "grid_template_areas": null,
            "grid_template_columns": null,
            "grid_template_rows": null,
            "height": null,
            "justify_content": null,
            "justify_items": null,
            "left": null,
            "margin": null,
            "max_height": null,
            "max_width": null,
            "min_height": null,
            "min_width": null,
            "object_fit": null,
            "object_position": null,
            "order": null,
            "overflow": null,
            "overflow_x": null,
            "overflow_y": null,
            "padding": null,
            "right": null,
            "top": null,
            "visibility": null,
            "width": null
          }
        },
        "05ea4ec2a46c40c7a529ff25879fdf22": {
          "model_module": "@jupyter-widgets/base",
          "model_name": "LayoutModel",
          "model_module_version": "1.2.0",
          "state": {
            "_model_module": "@jupyter-widgets/base",
            "_model_module_version": "1.2.0",
            "_model_name": "LayoutModel",
            "_view_count": null,
            "_view_module": "@jupyter-widgets/base",
            "_view_module_version": "1.2.0",
            "_view_name": "LayoutView",
            "align_content": null,
            "align_items": null,
            "align_self": null,
            "border": null,
            "bottom": null,
            "display": null,
            "flex": null,
            "flex_flow": null,
            "grid_area": null,
            "grid_auto_columns": null,
            "grid_auto_flow": null,
            "grid_auto_rows": null,
            "grid_column": null,
            "grid_gap": null,
            "grid_row": null,
            "grid_template_areas": null,
            "grid_template_columns": null,
            "grid_template_rows": null,
            "height": null,
            "justify_content": null,
            "justify_items": null,
            "left": null,
            "margin": null,
            "max_height": null,
            "max_width": null,
            "min_height": null,
            "min_width": null,
            "object_fit": null,
            "object_position": null,
            "order": null,
            "overflow": null,
            "overflow_x": null,
            "overflow_y": null,
            "padding": null,
            "right": null,
            "top": null,
            "visibility": null,
            "width": null
          }
        },
        "1f1a4b5345b14396aa88f241d18fb828": {
          "model_module": "@jupyter-widgets/controls",
          "model_name": "DescriptionStyleModel",
          "model_module_version": "1.5.0",
          "state": {
            "_model_module": "@jupyter-widgets/controls",
            "_model_module_version": "1.5.0",
            "_model_name": "DescriptionStyleModel",
            "_view_count": null,
            "_view_module": "@jupyter-widgets/base",
            "_view_module_version": "1.2.0",
            "_view_name": "StyleView",
            "description_width": ""
          }
        },
        "4b661b268f0742dd8e28a99a36717428": {
          "model_module": "@jupyter-widgets/base",
          "model_name": "LayoutModel",
          "model_module_version": "1.2.0",
          "state": {
            "_model_module": "@jupyter-widgets/base",
            "_model_module_version": "1.2.0",
            "_model_name": "LayoutModel",
            "_view_count": null,
            "_view_module": "@jupyter-widgets/base",
            "_view_module_version": "1.2.0",
            "_view_name": "LayoutView",
            "align_content": null,
            "align_items": null,
            "align_self": null,
            "border": null,
            "bottom": null,
            "display": null,
            "flex": null,
            "flex_flow": null,
            "grid_area": null,
            "grid_auto_columns": null,
            "grid_auto_flow": null,
            "grid_auto_rows": null,
            "grid_column": null,
            "grid_gap": null,
            "grid_row": null,
            "grid_template_areas": null,
            "grid_template_columns": null,
            "grid_template_rows": null,
            "height": null,
            "justify_content": null,
            "justify_items": null,
            "left": null,
            "margin": null,
            "max_height": null,
            "max_width": null,
            "min_height": null,
            "min_width": null,
            "object_fit": null,
            "object_position": null,
            "order": null,
            "overflow": null,
            "overflow_x": null,
            "overflow_y": null,
            "padding": null,
            "right": null,
            "top": null,
            "visibility": null,
            "width": null
          }
        },
        "25fdf09443e74b0aabfb90cbfe5bf1be": {
          "model_module": "@jupyter-widgets/controls",
          "model_name": "ProgressStyleModel",
          "model_module_version": "1.5.0",
          "state": {
            "_model_module": "@jupyter-widgets/controls",
            "_model_module_version": "1.5.0",
            "_model_name": "ProgressStyleModel",
            "_view_count": null,
            "_view_module": "@jupyter-widgets/base",
            "_view_module_version": "1.2.0",
            "_view_name": "StyleView",
            "bar_color": null,
            "description_width": ""
          }
        },
        "1ddbed89f78b4a60b6e7de6a8cef879e": {
          "model_module": "@jupyter-widgets/base",
          "model_name": "LayoutModel",
          "model_module_version": "1.2.0",
          "state": {
            "_model_module": "@jupyter-widgets/base",
            "_model_module_version": "1.2.0",
            "_model_name": "LayoutModel",
            "_view_count": null,
            "_view_module": "@jupyter-widgets/base",
            "_view_module_version": "1.2.0",
            "_view_name": "LayoutView",
            "align_content": null,
            "align_items": null,
            "align_self": null,
            "border": null,
            "bottom": null,
            "display": null,
            "flex": null,
            "flex_flow": null,
            "grid_area": null,
            "grid_auto_columns": null,
            "grid_auto_flow": null,
            "grid_auto_rows": null,
            "grid_column": null,
            "grid_gap": null,
            "grid_row": null,
            "grid_template_areas": null,
            "grid_template_columns": null,
            "grid_template_rows": null,
            "height": null,
            "justify_content": null,
            "justify_items": null,
            "left": null,
            "margin": null,
            "max_height": null,
            "max_width": null,
            "min_height": null,
            "min_width": null,
            "object_fit": null,
            "object_position": null,
            "order": null,
            "overflow": null,
            "overflow_x": null,
            "overflow_y": null,
            "padding": null,
            "right": null,
            "top": null,
            "visibility": null,
            "width": null
          }
        },
        "f2d680cf24c84269a2e9b1baf3c94a78": {
          "model_module": "@jupyter-widgets/controls",
          "model_name": "DescriptionStyleModel",
          "model_module_version": "1.5.0",
          "state": {
            "_model_module": "@jupyter-widgets/controls",
            "_model_module_version": "1.5.0",
            "_model_name": "DescriptionStyleModel",
            "_view_count": null,
            "_view_module": "@jupyter-widgets/base",
            "_view_module_version": "1.2.0",
            "_view_name": "StyleView",
            "description_width": ""
          }
        }
      }
    },
    "accelerator": "GPU"
  },
  "nbformat": 4,
  "nbformat_minor": 0
}